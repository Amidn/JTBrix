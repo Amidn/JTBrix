{
 "cells": [
  {
   "cell_type": "code",
   "execution_count": 8,
   "id": "863fe4c8",
   "metadata": {},
   "outputs": [],
   "source": [
    "from flask import Flask\n",
    "import os\n",
    "import webbrowser\n",
    "\n"
   ]
  },
  {
   "cell_type": "code",
   "execution_count": 11,
   "id": "fc67effd",
   "metadata": {},
   "outputs": [],
   "source": [
    "from JTBrix.screen_config import flow_config\n"
   ]
  },
  {
   "cell_type": "code",
   "execution_count": null,
   "id": "4a4446a8",
   "metadata": {},
   "outputs": [],
   "source": [
    "flow_config.update(config)"
   ]
  },
  {
   "cell_type": "code",
   "execution_count": 9,
   "id": "664771d2",
   "metadata": {},
   "outputs": [
    {
     "ename": "ImportError",
     "evalue": "cannot import name 'screen_config' from partially initialized module 'JTBrix' (most likely due to a circular import) (/Users/amid/GitHub/JTBrix/src/JTBrix/__init__.py)",
     "output_type": "error",
     "traceback": [
      "\u001b[31m---------------------------------------------------------------------------\u001b[39m",
      "\u001b[31mImportError\u001b[39m                               Traceback (most recent call last)",
      "\u001b[36mCell\u001b[39m\u001b[36m \u001b[39m\u001b[32mIn[9]\u001b[39m\u001b[32m, line 1\u001b[39m\n\u001b[32m----> \u001b[39m\u001b[32m1\u001b[39m \u001b[38;5;28;01mfrom\u001b[39;00m\u001b[38;5;250m \u001b[39m\u001b[34;01mJTBrix\u001b[39;00m\u001b[38;5;250m \u001b[39m\u001b[38;5;28;01mimport\u001b[39;00m screen_config\n\u001b[32m      2\u001b[39m screen_config.flow_config = config  \u001b[38;5;66;03m# 👈 MAKE IT AVAILABLE TO OTHER MODULES\u001b[39;00m\n\u001b[32m      3\u001b[39m \u001b[38;5;28;01mfrom\u001b[39;00m\u001b[38;5;250m \u001b[39m\u001b[34;01mJTBrix\u001b[39;00m\u001b[34;01m.\u001b[39;00m\u001b[34;01mexperiment\u001b[39;00m\u001b[34;01m.\u001b[39;00m\u001b[34;01mrun_session\u001b[39;00m\u001b[38;5;250m \u001b[39m\u001b[38;5;28;01mimport\u001b[39;00m run_entire_test_config\n",
      "\u001b[36mFile \u001b[39m\u001b[32m~/GitHub/JTBrix/src/JTBrix/__init__.py:9\u001b[39m\n\u001b[32m      5\u001b[39m __version__ = \u001b[33m'\u001b[39m\u001b[33m0.0.2\u001b[39m\u001b[33m'\u001b[39m\n\u001b[32m      8\u001b[39m \u001b[38;5;66;03m# Import core functionality to the top level\u001b[39;00m\n\u001b[32m----> \u001b[39m\u001b[32m9\u001b[39m \u001b[38;5;28;01mfrom\u001b[39;00m\u001b[38;5;250m \u001b[39m\u001b[34;01mJTBrix\u001b[39;00m\u001b[34;01m.\u001b[39;00m\u001b[34;01mexperiment\u001b[39;00m\u001b[38;5;250m \u001b[39m\u001b[38;5;28;01mimport\u001b[39;00m run_session  \u001b[38;5;66;03m# Example: if you have a main entry point\u001b[39;00m\n\u001b[32m     10\u001b[39m \u001b[38;5;28;01mfrom\u001b[39;00m\u001b[38;5;250m \u001b[39m\u001b[34;01mJTBrix\u001b[39;00m\u001b[34;01m.\u001b[39;00m\u001b[34;01mstimuli\u001b[39;00m\u001b[38;5;250m \u001b[39m\u001b[38;5;28;01mimport\u001b[39;00m play_video     \u001b[38;5;66;03m# Example: expose frequently used tools\u001b[39;00m\n\u001b[32m     11\u001b[39m \u001b[38;5;28;01mfrom\u001b[39;00m\u001b[38;5;250m \u001b[39m\u001b[34;01mJTBrix\u001b[39;00m\u001b[34;01m.\u001b[39;00m\u001b[34;01mquestionnaire\u001b[39;00m\u001b[38;5;250m \u001b[39m\u001b[38;5;28;01mimport\u001b[39;00m Survey   \u001b[38;5;66;03m# Example: expose a core class\u001b[39;00m\n",
      "\u001b[36mFile \u001b[39m\u001b[32m~/GitHub/JTBrix/src/JTBrix/experiment/__init__.py:1\u001b[39m\n\u001b[32m----> \u001b[39m\u001b[32m1\u001b[39m \u001b[38;5;28;01mfrom\u001b[39;00m\u001b[38;5;250m \u001b[39m\u001b[34;01m.\u001b[39;00m\u001b[34;01mrun_session\u001b[39;00m\u001b[38;5;250m \u001b[39m\u001b[38;5;28;01mimport\u001b[39;00m sequence, run_unique_test\n\u001b[32m      3\u001b[39m __all__ = [\u001b[33m'\u001b[39m\u001b[33msequence\u001b[39m\u001b[33m'\u001b[39m, \u001b[33m\"\u001b[39m\u001b[33mrun_unique_test\u001b[39m\u001b[33m\"\u001b[39m]\n",
      "\u001b[36mFile \u001b[39m\u001b[32m~/GitHub/JTBrix/src/JTBrix/experiment/run_session.py:6\u001b[39m\n\u001b[32m      2\u001b[39m \u001b[38;5;28;01mimport\u001b[39;00m\u001b[38;5;250m \u001b[39m\u001b[34;01mos\u001b[39;00m\n\u001b[32m      3\u001b[39m \u001b[38;5;28;01mimport\u001b[39;00m\u001b[38;5;250m \u001b[39m\u001b[34;01mwebbrowser\u001b[39;00m\n\u001b[32m----> \u001b[39m\u001b[32m6\u001b[39m \u001b[38;5;28;01mfrom\u001b[39;00m\u001b[38;5;250m \u001b[39m\u001b[34;01mJTBrix\u001b[39;00m\u001b[34;01m.\u001b[39;00m\u001b[34;01mquestionnaire\u001b[39;00m\u001b[34;01m.\u001b[39;00m\u001b[34;01mscreens\u001b[39;00m\u001b[38;5;250m \u001b[39m\u001b[38;5;28;01mimport\u001b[39;00m screens\n\u001b[32m      7\u001b[39m \u001b[38;5;28;01mfrom\u001b[39;00m\u001b[38;5;250m \u001b[39m\u001b[34;01mJTBrix\u001b[39;00m\u001b[34;01m.\u001b[39;00m\u001b[34;01mutils\u001b[39;00m\u001b[38;5;250m \u001b[39m\u001b[38;5;28;01mimport\u001b[39;00m find_free_port\n\u001b[32m      8\u001b[39m \u001b[38;5;28;01mfrom\u001b[39;00m\u001b[38;5;250m \u001b[39m\u001b[34;01mJTBrix\u001b[39;00m\u001b[38;5;250m \u001b[39m\u001b[38;5;28;01mimport\u001b[39;00m screen_config\n",
      "\u001b[36mFile \u001b[39m\u001b[32m~/GitHub/JTBrix/src/JTBrix/questionnaire/__init__.py:2\u001b[39m\n\u001b[32m      1\u001b[39m \u001b[38;5;66;03m#from .Survey import questioner ,  register_popup_question, register_consent_page\u001b[39;00m\n\u001b[32m----> \u001b[39m\u001b[32m2\u001b[39m \u001b[38;5;28;01mfrom\u001b[39;00m\u001b[38;5;250m \u001b[39m\u001b[34;01m.\u001b[39;00m\u001b[34;01mscreens\u001b[39;00m\u001b[38;5;250m \u001b[39m\u001b[38;5;28;01mimport\u001b[39;00m screen_consent, screen_video, screen_question, screen_popup\n\u001b[32m      4\u001b[39m __all__ = [\u001b[33m'\u001b[39m\u001b[33mquestioner\u001b[39m\u001b[33m'\u001b[39m, \u001b[33m\"\u001b[39m\u001b[33mregister_popup_question\u001b[39m\u001b[33m\"\u001b[39m, \u001b[33m\"\u001b[39m\u001b[33mregister_consent_page\u001b[39m\u001b[33m\"\u001b[39m, \u001b[33m\"\u001b[39m\u001b[33mscreen_consent\u001b[39m\u001b[33m\"\u001b[39m, \u001b[33m\"\u001b[39m\u001b[33mscreen_video\u001b[39m\u001b[33m\"\u001b[39m, \u001b[33m\"\u001b[39m\u001b[33mscreen_question\u001b[39m\u001b[33m\"\u001b[39m, \u001b[33m\"\u001b[39m\u001b[33mscreen_popup\u001b[39m\u001b[33m\"\u001b[39m]\n",
      "\u001b[36mFile \u001b[39m\u001b[32m~/GitHub/JTBrix/src/JTBrix/questionnaire/screens.py:7\u001b[39m\n\u001b[32m      5\u001b[39m screens = Blueprint(\u001b[33m\"\u001b[39m\u001b[33mscreens\u001b[39m\u001b[33m\"\u001b[39m, \u001b[34m__name__\u001b[39m)\n\u001b[32m      6\u001b[39m \u001b[38;5;28;01mfrom\u001b[39;00m\u001b[38;5;250m \u001b[39m\u001b[34;01mflask\u001b[39;00m\u001b[38;5;250m \u001b[39m\u001b[38;5;28;01mimport\u001b[39;00m render_template, abort\n\u001b[32m----> \u001b[39m\u001b[32m7\u001b[39m \u001b[38;5;28;01mfrom\u001b[39;00m\u001b[38;5;250m \u001b[39m\u001b[34;01mJTBrix\u001b[39;00m\u001b[38;5;250m \u001b[39m\u001b[38;5;28;01mimport\u001b[39;00m screen_config\n\u001b[32m      9\u001b[39m \u001b[38;5;129m@screens\u001b[39m.route(\u001b[33m\"\u001b[39m\u001b[33m/screen/question/<int:index>\u001b[39m\u001b[33m\"\u001b[39m)\n\u001b[32m     10\u001b[39m \u001b[38;5;28;01mdef\u001b[39;00m\u001b[38;5;250m \u001b[39m\u001b[34mshow_question\u001b[39m(index):\n\u001b[32m     11\u001b[39m     question_data = screen_config.flow_config.get(\u001b[33m\"\u001b[39m\u001b[33mquestion_data\u001b[39m\u001b[33m\"\u001b[39m, [])\n",
      "\u001b[31mImportError\u001b[39m: cannot import name 'screen_config' from partially initialized module 'JTBrix' (most likely due to a circular import) (/Users/amid/GitHub/JTBrix/src/JTBrix/__init__.py)"
     ]
    }
   ],
   "source": [
    "from JTBrix import screen_config\n",
    "screen_config.flow_config = config  # 👈 MAKE IT AVAILABLE TO OTHER MODULES\n",
    "from JTBrix.experiment.run_session import run_entire_test_config\n",
    "from JTBrix.screen_config import flow_config # 👈 ADD THIS LINE\n",
    "\n",
    "\n",
    "\n",
    "\n"
   ]
  },
  {
   "cell_type": "code",
   "execution_count": 6,
   "id": "4153b05b",
   "metadata": {},
   "outputs": [
    {
     "ename": "ImportError",
     "evalue": "cannot import name 'screen_config' from partially initialized module 'JTBrix' (most likely due to a circular import) (/Users/amid/GitHub/JTBrix/src/JTBrix/__init__.py)",
     "output_type": "error",
     "traceback": [
      "\u001b[31m---------------------------------------------------------------------------\u001b[39m",
      "\u001b[31mImportError\u001b[39m                               Traceback (most recent call last)",
      "\u001b[36mCell\u001b[39m\u001b[36m \u001b[39m\u001b[32mIn[6]\u001b[39m\u001b[32m, line 1\u001b[39m\n\u001b[32m----> \u001b[39m\u001b[32m1\u001b[39m \u001b[38;5;28;01mfrom\u001b[39;00m\u001b[38;5;250m \u001b[39m\u001b[34;01mJTBrix\u001b[39;00m\u001b[34;01m.\u001b[39;00m\u001b[34;01mexperiment\u001b[39;00m\u001b[34;01m.\u001b[39;00m\u001b[34;01mrun_session\u001b[39;00m\u001b[38;5;250m \u001b[39m\u001b[38;5;28;01mimport\u001b[39;00m run_entire_test_config\n",
      "\u001b[36mFile \u001b[39m\u001b[32m~/GitHub/JTBrix/src/JTBrix/__init__.py:9\u001b[39m\n\u001b[32m      5\u001b[39m __version__ = \u001b[33m'\u001b[39m\u001b[33m0.0.2\u001b[39m\u001b[33m'\u001b[39m\n\u001b[32m      8\u001b[39m \u001b[38;5;66;03m# Import core functionality to the top level\u001b[39;00m\n\u001b[32m----> \u001b[39m\u001b[32m9\u001b[39m \u001b[38;5;28;01mfrom\u001b[39;00m\u001b[38;5;250m \u001b[39m\u001b[34;01mJTBrix\u001b[39;00m\u001b[34;01m.\u001b[39;00m\u001b[34;01mexperiment\u001b[39;00m\u001b[38;5;250m \u001b[39m\u001b[38;5;28;01mimport\u001b[39;00m run_session  \u001b[38;5;66;03m# Example: if you have a main entry point\u001b[39;00m\n\u001b[32m     10\u001b[39m \u001b[38;5;28;01mfrom\u001b[39;00m\u001b[38;5;250m \u001b[39m\u001b[34;01mJTBrix\u001b[39;00m\u001b[34;01m.\u001b[39;00m\u001b[34;01mstimuli\u001b[39;00m\u001b[38;5;250m \u001b[39m\u001b[38;5;28;01mimport\u001b[39;00m play_video     \u001b[38;5;66;03m# Example: expose frequently used tools\u001b[39;00m\n\u001b[32m     11\u001b[39m \u001b[38;5;28;01mfrom\u001b[39;00m\u001b[38;5;250m \u001b[39m\u001b[34;01mJTBrix\u001b[39;00m\u001b[34;01m.\u001b[39;00m\u001b[34;01mquestionnaire\u001b[39;00m\u001b[38;5;250m \u001b[39m\u001b[38;5;28;01mimport\u001b[39;00m Survey   \u001b[38;5;66;03m# Example: expose a core class\u001b[39;00m\n",
      "\u001b[36mFile \u001b[39m\u001b[32m~/GitHub/JTBrix/src/JTBrix/experiment/__init__.py:1\u001b[39m\n\u001b[32m----> \u001b[39m\u001b[32m1\u001b[39m \u001b[38;5;28;01mfrom\u001b[39;00m\u001b[38;5;250m \u001b[39m\u001b[34;01m.\u001b[39;00m\u001b[34;01mrun_session\u001b[39;00m\u001b[38;5;250m \u001b[39m\u001b[38;5;28;01mimport\u001b[39;00m sequence, run_unique_test\n\u001b[32m      3\u001b[39m __all__ = [\u001b[33m'\u001b[39m\u001b[33msequence\u001b[39m\u001b[33m'\u001b[39m, \u001b[33m\"\u001b[39m\u001b[33mrun_unique_test\u001b[39m\u001b[33m\"\u001b[39m]\n",
      "\u001b[36mFile \u001b[39m\u001b[32m~/GitHub/JTBrix/src/JTBrix/experiment/run_session.py:6\u001b[39m\n\u001b[32m      2\u001b[39m \u001b[38;5;28;01mimport\u001b[39;00m\u001b[38;5;250m \u001b[39m\u001b[34;01mos\u001b[39;00m\n\u001b[32m      3\u001b[39m \u001b[38;5;28;01mimport\u001b[39;00m\u001b[38;5;250m \u001b[39m\u001b[34;01mwebbrowser\u001b[39;00m\n\u001b[32m----> \u001b[39m\u001b[32m6\u001b[39m \u001b[38;5;28;01mfrom\u001b[39;00m\u001b[38;5;250m \u001b[39m\u001b[34;01mJTBrix\u001b[39;00m\u001b[34;01m.\u001b[39;00m\u001b[34;01mquestionnaire\u001b[39;00m\u001b[34;01m.\u001b[39;00m\u001b[34;01mscreens\u001b[39;00m\u001b[38;5;250m \u001b[39m\u001b[38;5;28;01mimport\u001b[39;00m screens\n\u001b[32m      7\u001b[39m \u001b[38;5;28;01mfrom\u001b[39;00m\u001b[38;5;250m \u001b[39m\u001b[34;01mJTBrix\u001b[39;00m\u001b[34;01m.\u001b[39;00m\u001b[34;01mutils\u001b[39;00m\u001b[38;5;250m \u001b[39m\u001b[38;5;28;01mimport\u001b[39;00m find_free_port\n\u001b[32m      8\u001b[39m \u001b[38;5;28;01mfrom\u001b[39;00m\u001b[38;5;250m \u001b[39m\u001b[34;01mJTBrix\u001b[39;00m\u001b[38;5;250m \u001b[39m\u001b[38;5;28;01mimport\u001b[39;00m screen_config\n",
      "\u001b[36mFile \u001b[39m\u001b[32m~/GitHub/JTBrix/src/JTBrix/questionnaire/__init__.py:2\u001b[39m\n\u001b[32m      1\u001b[39m \u001b[38;5;66;03m#from .Survey import questioner ,  register_popup_question, register_consent_page\u001b[39;00m\n\u001b[32m----> \u001b[39m\u001b[32m2\u001b[39m \u001b[38;5;28;01mfrom\u001b[39;00m\u001b[38;5;250m \u001b[39m\u001b[34;01m.\u001b[39;00m\u001b[34;01mscreens\u001b[39;00m\u001b[38;5;250m \u001b[39m\u001b[38;5;28;01mimport\u001b[39;00m screen_consent, screen_video, screen_question, screen_popup\n\u001b[32m      4\u001b[39m __all__ = [\u001b[33m'\u001b[39m\u001b[33mquestioner\u001b[39m\u001b[33m'\u001b[39m, \u001b[33m\"\u001b[39m\u001b[33mregister_popup_question\u001b[39m\u001b[33m\"\u001b[39m, \u001b[33m\"\u001b[39m\u001b[33mregister_consent_page\u001b[39m\u001b[33m\"\u001b[39m, \u001b[33m\"\u001b[39m\u001b[33mscreen_consent\u001b[39m\u001b[33m\"\u001b[39m, \u001b[33m\"\u001b[39m\u001b[33mscreen_video\u001b[39m\u001b[33m\"\u001b[39m, \u001b[33m\"\u001b[39m\u001b[33mscreen_question\u001b[39m\u001b[33m\"\u001b[39m, \u001b[33m\"\u001b[39m\u001b[33mscreen_popup\u001b[39m\u001b[33m\"\u001b[39m]\n",
      "\u001b[36mFile \u001b[39m\u001b[32m~/GitHub/JTBrix/src/JTBrix/questionnaire/screens.py:7\u001b[39m\n\u001b[32m      5\u001b[39m screens = Blueprint(\u001b[33m\"\u001b[39m\u001b[33mscreens\u001b[39m\u001b[33m\"\u001b[39m, \u001b[34m__name__\u001b[39m)\n\u001b[32m      6\u001b[39m \u001b[38;5;28;01mfrom\u001b[39;00m\u001b[38;5;250m \u001b[39m\u001b[34;01mflask\u001b[39;00m\u001b[38;5;250m \u001b[39m\u001b[38;5;28;01mimport\u001b[39;00m render_template, abort\n\u001b[32m----> \u001b[39m\u001b[32m7\u001b[39m \u001b[38;5;28;01mfrom\u001b[39;00m\u001b[38;5;250m \u001b[39m\u001b[34;01mJTBrix\u001b[39;00m\u001b[38;5;250m \u001b[39m\u001b[38;5;28;01mimport\u001b[39;00m screen_config\n\u001b[32m      9\u001b[39m \u001b[38;5;129m@screens\u001b[39m.route(\u001b[33m\"\u001b[39m\u001b[33m/screen/question/<int:index>\u001b[39m\u001b[33m\"\u001b[39m)\n\u001b[32m     10\u001b[39m \u001b[38;5;28;01mdef\u001b[39;00m\u001b[38;5;250m \u001b[39m\u001b[34mshow_question\u001b[39m(index):\n\u001b[32m     11\u001b[39m     question_data = screen_config.flow_config.get(\u001b[33m\"\u001b[39m\u001b[33mquestion_data\u001b[39m\u001b[33m\"\u001b[39m, [])\n",
      "\u001b[31mImportError\u001b[39m: cannot import name 'screen_config' from partially initialized module 'JTBrix' (most likely due to a circular import) (/Users/amid/GitHub/JTBrix/src/JTBrix/__init__.py)"
     ]
    }
   ],
   "source": [
    "from JTBrix.experiment.run_session import run_entire_test_config"
   ]
  }
 ],
 "metadata": {
  "kernelspec": {
   "display_name": "JTBrix",
   "language": "python",
   "name": "python3"
  },
  "language_info": {
   "codemirror_mode": {
    "name": "ipython",
    "version": 3
   },
   "file_extension": ".py",
   "mimetype": "text/x-python",
   "name": "python",
   "nbconvert_exporter": "python",
   "pygments_lexer": "ipython3",
   "version": "3.12.9"
  }
 },
 "nbformat": 4,
 "nbformat_minor": 5
}
