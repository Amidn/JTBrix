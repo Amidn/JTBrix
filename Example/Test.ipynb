{
 "cells": [
  {
   "cell_type": "code",
   "execution_count": 1,
   "id": "9d97753f",
   "metadata": {},
   "outputs": [],
   "source": [
    "from JTBrix import  run_session, port"
   ]
  },
  {
   "cell_type": "code",
   "execution_count": 2,
   "id": "f634ea8a",
   "metadata": {},
   "outputs": [],
   "source": [
    "from JTBrix.stimuli import register_video"
   ]
  },
  {
   "cell_type": "code",
   "execution_count": 3,
   "id": "c2d1caee",
   "metadata": {},
   "outputs": [],
   "source": [
    "from JTBrix.utils import find_free_port\n",
    "from JTBrix.experiment import sequence\n"
   ]
  },
  {
   "cell_type": "code",
   "execution_count": 4,
   "id": "b3f724ae",
   "metadata": {},
   "outputs": [
    {
     "name": "stdout",
     "output_type": "stream",
     "text": [
      " * Serving Flask app 'JTBrix.experiment.run_session'\n",
      " * Debug mode: off\n"
     ]
    },
    {
     "name": "stderr",
     "output_type": "stream",
     "text": [
      "\u001b[31m\u001b[1mWARNING: This is a development server. Do not use it in a production deployment. Use a production WSGI server instead.\u001b[0m\n",
      " * Running on http://127.0.0.1:55785\n",
      "\u001b[33mPress CTRL+C to quit\u001b[0m\n",
      "127.0.0.1 - - [02/May/2025 22:14:49] \"GET /video HTTP/1.1\" 200 -\n",
      "127.0.0.1 - - [02/May/2025 22:14:49] \"\u001b[33mGET /static/FB.mp4 HTTP/1.1\u001b[0m\" 404 -\n",
      "127.0.0.1 - - [02/May/2025 22:14:49] \"\u001b[35m\u001b[1mGET /favicon.ico HTTP/1.1\u001b[0m\" 204 -\n"
     ]
    },
    {
     "ename": "KeyboardInterrupt",
     "evalue": "",
     "output_type": "error",
     "traceback": [
      "\u001b[31m---------------------------------------------------------------------------\u001b[39m",
      "\u001b[31mKeyboardInterrupt\u001b[39m                         Traceback (most recent call last)",
      "\u001b[36mCell\u001b[39m\u001b[36m \u001b[39m\u001b[32mIn[4]\u001b[39m\u001b[32m, line 4\u001b[39m\n\u001b[32m      2\u001b[39m Q1 = (\u001b[33m\"\u001b[39m\u001b[33mWhich fruit do you prefer?\u001b[39m\u001b[33m\"\u001b[39m, \u001b[33m\"\u001b[39m\u001b[33mApple\u001b[39m\u001b[33m\"\u001b[39m, \u001b[33m\"\u001b[39m\u001b[33mBanana\u001b[39m\u001b[33m\"\u001b[39m, \u001b[33m\"\u001b[39m\u001b[33mred\u001b[39m\u001b[33m\"\u001b[39m, \u001b[33m\"\u001b[39m\u001b[33mgoldenrod\u001b[39m\u001b[33m\"\u001b[39m, \u001b[33m\"\u001b[39m\u001b[33mstatic/p.jpeg\u001b[39m\u001b[33m\"\u001b[39m)\n\u001b[32m      3\u001b[39m Q2 = (\u001b[33m\"\u001b[39m\u001b[33mWhich car do you prefer?\u001b[39m\u001b[33m\"\u001b[39m, \u001b[33m\"\u001b[39m\u001b[33mTesla\u001b[39m\u001b[33m\"\u001b[39m, \u001b[33m\"\u001b[39m\u001b[33mFord\u001b[39m\u001b[33m\"\u001b[39m, \u001b[33m\"\u001b[39m\u001b[33mblue\u001b[39m\u001b[33m\"\u001b[39m, \u001b[33m\"\u001b[39m\u001b[33mgray\u001b[39m\u001b[33m\"\u001b[39m, \u001b[33m\"\u001b[39m\u001b[33mstatic/p.jpeg\u001b[39m\u001b[33m\"\u001b[39m)\n\u001b[32m----> \u001b[39m\u001b[32m4\u001b[39m answers, times = \u001b[43msequence\u001b[49m\u001b[43m(\u001b[49m\u001b[43mfree_port\u001b[49m\u001b[43m,\u001b[49m\u001b[43m \u001b[49m\u001b[43mQ1\u001b[49m\u001b[43m,\u001b[49m\u001b[43m \u001b[49m\u001b[43mQ2\u001b[49m\u001b[43m)\u001b[49m\n\u001b[32m      5\u001b[39m \u001b[38;5;28mprint\u001b[39m(\u001b[33m\"\u001b[39m\u001b[33mAnswers:\u001b[39m\u001b[33m\"\u001b[39m, answers)\n\u001b[32m      6\u001b[39m \u001b[38;5;28mprint\u001b[39m(\u001b[33m\"\u001b[39m\u001b[33mTimes:\u001b[39m\u001b[33m\"\u001b[39m, times)  \n",
      "\u001b[36mFile \u001b[39m\u001b[32m~/GitHub/JTBrix/src/JTBrix/experiment/run_session.py:30\u001b[39m, in \u001b[36msequence\u001b[39m\u001b[34m(port, *question_data_list)\u001b[39m\n\u001b[32m     27\u001b[39m webbrowser.open(\u001b[33mf\u001b[39m\u001b[33m\"\u001b[39m\u001b[33mhttp://127.0.0.1:\u001b[39m\u001b[38;5;132;01m{\u001b[39;00mport\u001b[38;5;132;01m}\u001b[39;00m\u001b[33m/video\u001b[39m\u001b[33m\"\u001b[39m)\n\u001b[32m     29\u001b[39m \u001b[38;5;28;01mwhile\u001b[39;00m \u001b[38;5;28mlen\u001b[39m(result[\u001b[33m'\u001b[39m\u001b[33manswers\u001b[39m\u001b[33m'\u001b[39m]) < result[\u001b[33m'\u001b[39m\u001b[33mexpected\u001b[39m\u001b[33m'\u001b[39m]:\n\u001b[32m---> \u001b[39m\u001b[32m30\u001b[39m     \u001b[43mtime\u001b[49m\u001b[43m.\u001b[49m\u001b[43msleep\u001b[49m\u001b[43m(\u001b[49m\u001b[32;43m0.1\u001b[39;49m\u001b[43m)\u001b[49m\n\u001b[32m     32\u001b[39m \u001b[38;5;28;01mreturn\u001b[39;00m result[\u001b[33m'\u001b[39m\u001b[33manswers\u001b[39m\u001b[33m'\u001b[39m], result[\u001b[33m'\u001b[39m\u001b[33mtimes\u001b[39m\u001b[33m'\u001b[39m]\n",
      "\u001b[31mKeyboardInterrupt\u001b[39m: "
     ]
    }
   ],
   "source": [
    "\n",
    "\n",
    "free_port = find_free_port()\n",
    "Q1 = (\"Which fruit do you prefer?\", \"Apple\", \"Banana\", \"red\", \"goldenrod\", \"static/p.jpeg\")\n",
    "Q2 = (\"Which car do you prefer?\", \"Tesla\", \"Ford\", \"blue\", \"gray\", \"static/p.jpeg\")\n",
    "answers, times = sequence(free_port, Q1, Q2)\n",
    "print(\"Answers:\", answers)\n",
    "print(\"Times:\", times)  \n"
   ]
  }
 ],
 "metadata": {
  "kernelspec": {
   "display_name": "JTBrix",
   "language": "python",
   "name": "python3"
  },
  "language_info": {
   "codemirror_mode": {
    "name": "ipython",
    "version": 3
   },
   "file_extension": ".py",
   "mimetype": "text/x-python",
   "name": "python",
   "nbconvert_exporter": "python",
   "pygments_lexer": "ipython3",
   "version": "3.12.9"
  }
 },
 "nbformat": 4,
 "nbformat_minor": 5
}
