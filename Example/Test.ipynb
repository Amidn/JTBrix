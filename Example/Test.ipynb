{
 "cells": [
  {
   "cell_type": "code",
   "execution_count": null,
   "id": "bef50a1d",
   "metadata": {},
   "outputs": [],
   "source": [
    "from JTBrix import run_test"
   ]
  },
  {
   "cell_type": "code",
   "execution_count": null,
   "id": "37f17f97",
   "metadata": {},
   "outputs": [],
   "source": [
    "result = run_test(\"../src/JTBrix/data/config.yml\", \"../src/JTBrix/data/static/\") "
   ]
  }
 ],
 "metadata": {
  "kernelspec": {
   "display_name": "JTBrix",
   "language": "python",
   "name": "python3"
  },
  "language_info": {
   "codemirror_mode": {
    "name": "ipython",
    "version": 3
   },
   "file_extension": ".py",
   "mimetype": "text/x-python",
   "name": "python",
   "nbconvert_exporter": "python",
   "pygments_lexer": "ipython3",
   "version": "3.12.9"
  }
 },
 "nbformat": 4,
 "nbformat_minor": 5
}
