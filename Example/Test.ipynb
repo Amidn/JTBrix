{
 "cells": [
  {
   "cell_type": "code",
   "execution_count": 1,
   "id": "072c87cc",
   "metadata": {},
   "outputs": [],
   "source": [
    "import os\n",
    "import time\n",
    "import threading\n",
    "import webbrowser\n",
    "from pathlib import Path\n",
    "from typing import Tuple\n",
    "\n",
    "from flask import Flask, request, jsonify\n"
   ]
  },
  {
   "cell_type": "code",
   "execution_count": 3,
   "id": "26c4a453",
   "metadata": {},
   "outputs": [],
   "source": [
    "\n",
    "import JTBrix\n",
    "from JTBrix import screen_config\n",
    "from JTBrix.screen_config import flow_config\n",
    "from JTBrix.ui.main import ui, submitted_results\n",
    "from JTBrix.questionnaire.screens import screens\n"
   ]
  },
  {
   "cell_type": "code",
   "execution_count": 4,
   "id": "33f79fed",
   "metadata": {},
   "outputs": [],
   "source": [
    "\n",
    "from JTBrix.utils.paths import get_project_paths\n",
    "from JTBrix.utils.config import read_experiment_config\n",
    "from JTBrix.utils.results import build_full_structured_result, get_combined_results\n",
    "from JTBrix.io.saving import save_structured_output\n"
   ]
  },
  {
   "cell_type": "code",
   "execution_count": 6,
   "id": "d5b71c30",
   "metadata": {},
   "outputs": [],
   "source": [
    "from JTBrix.utils import find_free_port \n",
    "from JTBrix import  detect_environment"
   ]
  },
  {
   "cell_type": "code",
   "execution_count": 9,
   "id": "5dc2097c",
   "metadata": {},
   "outputs": [
    {
     "name": "stdout",
     "output_type": "stream",
     "text": [
      "System: Darwin\n"
     ]
    }
   ],
   "source": [
    "import os\n",
    "import platform\n",
    "\n",
    "print(\"System:\", platform.system())"
   ]
  },
  {
   "cell_type": "code",
   "execution_count": 8,
   "id": "86b72c8d",
   "metadata": {},
   "outputs": [
    {
     "data": {
      "text/plain": [
       "'macOS'"
      ]
     },
     "execution_count": 8,
     "metadata": {},
     "output_type": "execute_result"
    }
   ],
   "source": [
    "sys   "
   ]
  },
  {
   "cell_type": "code",
   "execution_count": null,
   "id": "bef50a1d",
   "metadata": {},
   "outputs": [],
   "source": [
    "from JTBrix import run_test"
   ]
  },
  {
   "cell_type": "code",
   "execution_count": null,
   "id": "37f17f97",
   "metadata": {},
   "outputs": [],
   "source": [
    "result = run_test(\"../src/JTBrix/data/config.yml\", \"../src/JTBrix/data/static/\") "
   ]
  },
  {
   "cell_type": "code",
   "execution_count": null,
   "id": "2c31a978",
   "metadata": {},
   "outputs": [],
   "source": [
    "import os\n",
    "import time\n",
    "import threading\n",
    "import webbrowser\n",
    "from pathlib import Path\n",
    "from typing import Tuple\n",
    "\n",
    "from flask import Flask, request, jsonify\n",
    "\n",
    "import JTBrix\n",
    "from JTBrix import run_test, screen_config\n",
    "from JTBrix.screen_config import flow_config\n",
    "from JTBrix.ui.main import ui, submitted_results\n",
    "from JTBrix.questionnaire.screens import screens\n",
    "from JTBrix.experiment.run_experiment import run_test\n",
    "from JTBrix.experiment.run_session import run_entire_test_config\n",
    "from JTBrix.utils import find_free_port\n",
    "from JTBrix.utils.paths import get_project_paths\n",
    "from JTBrix.utils.config import read_experiment_config\n",
    "from JTBrix.utils.results import build_full_structured_result, get_combined_results\n",
    "from JTBrix.io.saving import save_structured_output\n",
    "\n",
    "paths = get_project_paths()\n",
    "template_path = paths[\"template_path\"]\n",
    "config_path = paths[\"config_path\"]\n",
    "static_path = paths[\"static_path\"]\n",
    "results_path = paths[\"results_path\"]\n",
    "\n",
    "\n",
    "start_timestamp = time.strftime(\"%Y-%m-%d %H:%M:%S\")\n",
    "\n",
    "\n",
    "\n",
    "\n",
    "\n",
    "\n",
    "def run_on_local():\n",
    "    thread = threading.Thread(target=run_app)\n",
    "    thread.daemon = True\n",
    "    thread.start()\n",
    "    print (f\"Flask app running on port {port}\")\n",
    "    time.sleep(1)\n",
    "    start_timestamp = time.strftime(\"%Y-%m-%d %H:%M:%S\")\n",
    "    webbrowser.open(f\"http://127.0.0.1:{port}/experiment\")\n",
    "\n",
    "    \n",
    "    # Wait until any submission is marked as finished\n",
    "    print(\"Waiting for experiment to finish...\")\n",
    "    start_time = time.time()\n",
    "\n",
    "    while time.time() - start_time < timeout:\n",
    "        if any(entry.get(\"finished\") for entry in submitted_results):\n",
    "            break\n",
    "        time.sleep(1)  # Check every second\n",
    "    #thread.join()  # Or implement your own wait logic\n",
    "\n",
    "    duration_seconds = int(time.time() - start_time)\n",
    "    results = get_combined_results(submitted_results)\n",
    "    results[\"experiment_start\"] = start_timestamp\n",
    "    results[\"experiment_duration_sec\"] = duration_seconds\n",
    "\n",
    "# NEW unified function\n",
    "def run_test(config_path: str, static_folder: str, timeout: int = 600) -> Tuple[dict, list]:\n",
    "    from flask import Flask\n",
    "    import os, time, threading, webbrowser\n",
    "    from pathlib import Path\n",
    "    from JTBrix.ui.main import ui, submitted_results\n",
    "    from JTBrix.questionnaire.screens import screens\n",
    "    from JTBrix.utils import find_free_port\n",
    "    from JTBrix.utils.config import read_experiment_config\n",
    "    from JTBrix.utils.results import get_combined_results\n",
    "    import JTBrix\n",
    "\n",
    "    # Read config\n",
    "    config, order = read_experiment_config(config_path)\n",
    "    print(\"CONFIG:\\n\", config)\n",
    "    print(\"\\nSELECTED ORDER:\", order)\n",
    "\n",
    "    # Set up global config\n",
    "    from JTBrix import screen_config\n",
    "    screen_config.flow_config = config\n",
    "    submitted_results.clear()\n",
    "\n",
    "    # Setup paths\n",
    "    jtbrix_root = Path(JTBrix.__file__).parent\n",
    "    template_path = jtbrix_root / \"templates\"\n",
    "    static_folder = os.path.abspath(static_folder)\n",
    "\n",
    "    # Flask app\n",
    "    app = Flask(__name__, static_folder=static_folder, template_folder=template_path)\n",
    "    app.register_blueprint(ui)\n",
    "    app.register_blueprint(screens)\n",
    "    port = find_free_port()\n",
    "\n",
    "    # Start server\n",
    "    def run_app():\n",
    "        app.run(port=port, debug=False, use_reloader=False)\n",
    "\n",
    "    thread = threading.Thread(target=run_app)\n",
    "    thread.daemon = True\n",
    "    thread.start()\n",
    "\n",
    "    print(f\"Flask app running on port {port}\")\n",
    "    time.sleep(1)\n",
    "    start_timestamp = time.strftime(\"%Y-%m-%d %H:%M:%S\")\n",
    "    webbrowser.open(f\"http://127.0.0.1:{port}/experiment\")\n",
    "\n",
    "    # Wait for results\n",
    "    print(\"Waiting for experiment to finish...\")\n",
    "    start_time = time.time()\n",
    "    while time.time() - start_time < timeout:\n",
    "        if any(entry.get(\"finished\") for entry in submitted_results):\n",
    "            break\n",
    "        time.sleep(1)\n",
    "\n",
    "    # Collect and return\n",
    "    duration_seconds = int(time.time() - start_time)\n",
    "    results = get_combined_results(submitted_results)\n",
    "    results[\"experiment_start\"] = start_timestamp\n",
    "    results[\"experiment_duration_sec\"] = duration_seconds\n",
    "    return results, order\n",
    "\n",
    "\n",
    "def run():\n",
    "    results, order = run_test(\"../src/JTBrix/data/config.yml\", \"../src/JTBrix/data/static/\", timeout=300) \n",
    "    print(\"Combined results:\", results)\n",
    "    print(\"Execution order:\", order)\n",
    "\n",
    "    structured_output = build_full_structured_result(results, \"../src/JTBrix/data/config.yml\", execution_order=order)\n",
    "    print (\"Structured output:\", structured_output)\n",
    "    print(\"Structured output keys:\", structured_output.keys())\n",
    "    print(\"Structured output values:\", structured_output.values())\n",
    "\n",
    "\n",
    "\n",
    "\n",
    "# Save to txt, yaml, csv, json\n",
    "save_structured_output(structured_output, save_path=\"../src/JTBrix/data/results/\", name=\"Test_data\")\n",
    "    \n",
    "\n",
    "# ✅ Add /run_experiment route\n",
    "@app.route(\"/run_experiment\")\n",
    "def run_experiment():\n",
    "    results, order = run_test(config_path, static_path , timeout=300 )\n",
    "    print(\"Waiting for experiment to finish...\")\n",
    "    start_time = time.time()\n",
    "    structured_output = build_full_structured_result(results, config_path, execution_order=order)\n",
    "    save_structured_output(structured_output, save_path=results_path, name=\"Test_data\")\n",
    "    return jsonify({\"status\": \"success\", \"order\": order, \"summary\": structured_output})\n",
    "\n",
    "if __name__ == \"__main__\":\n",
    "    port = find_free_port()\n",
    "    # Create the app\n",
    "    app = Flask(__name__, static_folder=static_path, template_folder=template_path)\n",
    "    app.register_blueprint(ui)\n",
    "    app.register_blueprint(screens)"
   ]
  }
 ],
 "metadata": {
  "kernelspec": {
   "display_name": "JTBrix",
   "language": "python",
   "name": "python3"
  },
  "language_info": {
   "codemirror_mode": {
    "name": "ipython",
    "version": 3
   },
   "file_extension": ".py",
   "mimetype": "text/x-python",
   "name": "python",
   "nbconvert_exporter": "python",
   "pygments_lexer": "ipython3",
   "version": "3.12.9"
  }
 },
 "nbformat": 4,
 "nbformat_minor": 5
}
